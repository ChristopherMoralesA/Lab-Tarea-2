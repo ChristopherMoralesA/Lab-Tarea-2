{
 "cells": [
  {
   "cell_type": "markdown",
   "metadata": {},
   "source": [
    "Laboratorio #2 - Modulacion por Amplitud"
   ]
  },
  {
   "cell_type": "markdown",
   "metadata": {},
   "source": []
  },
  {
   "cell_type": "markdown",
   "metadata": {},
   "source": [
    "TAREA # 1 \n",
    "Construir un sistema básico AM de tipo DSC-SC, incluyendo la etapa de modulación y \n",
    "demodulación, puede asumir condiciones óptimas, esto es no ruido o pérdidas o modificaciones \n",
    "en frecuencia o fase. \n",
    "\n",
    "1- Se recomienda crear una función para la modulación y otra para la demodulación. \n",
    "2- Utilice sincronización coherente. \n",
    "3- Puede asumir un canal óptimo sin pérdidas entre ambos bloques. \n",
    "1- Grafique todas las funciones y salidas involucradas, tanto en el tiempo como en la \n",
    "frecuencia. Sea ordenado en la forma en que lo presente en la notebook. Describa lo \n",
    "que observa en cada una de ellas. \n",
    "4- Para el experimento, considere una señal de tono (información) tipo: \n",
    "𝑚(𝑡) ó 𝑓(𝑡) = cos (2𝜋𝑓௠𝑡), de forma que NO se incurra en sobre-modulación. \n",
    "5- Realice un análisis completo de los resultados obtenidos, en cada parte funcional del \n",
    "sistema de comunicación AM DSB-SC."
   ]
  },
  {
   "cell_type": "code",
   "execution_count": null,
   "metadata": {},
   "outputs": [],
   "source": []
  },
  {
   "cell_type": "markdown",
   "metadata": {},
   "source": [
    "TAREA # 2 \n",
    "Usando como base el sistema básico AM de tipo DSC-SC, construido en la sección anterior, \n",
    "introduzca una nueva señal de portadora en el bloque demodulador, de manera que pueda \n",
    "introducir errores controlados de ∆𝜔 y 𝜃଴."
   ]
  }
 ],
 "metadata": {
  "language_info": {
   "name": "python"
  },
  "orig_nbformat": 4
 },
 "nbformat": 4,
 "nbformat_minor": 2
}
