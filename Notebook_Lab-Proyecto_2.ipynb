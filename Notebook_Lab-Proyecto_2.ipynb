{
 "cells": [
  {
   "cell_type": "markdown",
   "metadata": {},
   "source": [
    "Laboratorio #2 - Modulacion por Amplitud"
   ]
  },
  {
   "cell_type": "markdown",
   "metadata": {},
   "source": []
  },
  {
   "cell_type": "markdown",
   "metadata": {},
   "source": [
    "TAREA # 1 \n",
    "Construir un sistema básico AM de tipo DSC-SC, incluyendo la etapa de modulación y \n",
    "demodulación, puede asumir condiciones óptimas, esto es no ruido o pérdidas o modificaciones \n",
    "en frecuencia o fase. \n",
    "\n",
    "1- Se recomienda crear una función para la modulación y otra para la demodulación. \n",
    "2- Utilice sincronización coherente. \n",
    "3- Puede asumir un canal óptimo sin pérdidas entre ambos bloques. \n",
    "1- Grafique todas las funciones y salidas involucradas, tanto en el tiempo como en la \n",
    "frecuencia. Sea ordenado en la forma en que lo presente en la notebook. Describa lo \n",
    "que observa en cada una de ellas. \n",
    "4- Para el experimento, considere una señal de tono (información) tipo: \n",
    "𝑚(𝑡) ó 𝑓(𝑡) = cos (2𝜋𝑓௠𝑡), de forma que NO se incurra en sobre-modulación. \n",
    "5- Realice un análisis completo de los resultados obtenidos, en cada parte funcional del \n",
    "sistema de comunicación AM DSB-SC."
   ]
  },
  {
   "cell_type": "code",
   "execution_count": null,
   "metadata": {},
   "outputs": [],
   "source": []
  },
  {
   "cell_type": "markdown",
   "metadata": {},
   "source": [
    "TAREA # 2 \n",
    "Usando como base el sistema básico AM de tipo DSC-SC, construido en la sección anterior, \n",
    "introduzca una nueva señal de portadora en el bloque demodulador, de manera que pueda \n",
    "introducir errores controlados de ∆𝜔 y 𝜃଴."
   ]
  },
  {
   "cell_type": "code",
   "execution_count": null,
   "metadata": {},
   "outputs": [],
   "source": []
  },
  {
   "cell_type": "markdown",
   "metadata": {},
   "source": [
    "TAREA #3\n",
    "Construir un modulador básico AM de tipo DSC-LC, considerando únicamente la etapa de \n",
    "modulación: \n",
    "1- Se recomienda crear una función para la modulación. \n",
    "2- Para el experimento, considere una señal de tono 𝑚(𝑡) ó 𝑓(𝑡) = cos (2𝜋𝑓௠𝑡), de \n",
    "forma que SI SE INCURRA en sobre-modulación. \n",
    "6- Grafique todas las funciones y salidas involucradas, esto es, 𝑚(𝑡), 𝑐, 𝑠(𝑡), tanto en el \n",
    "tiempo como en la frecuencia. Sea ordenado en la forma en que lo presente en la \n",
    "notebook. Describa lo que observa en cada una de ellas. \n",
    "3- Realice un análisis completo de lo ocurrido en cada parte funcional del sistema de \n",
    "modulación AM DSB-SL, basado en las gráficas obtenidas. \n",
    "4- Realice un estudio robusto del efecto del factor de modulación 𝜇 = 𝑘௔𝐴௠ durante el \n",
    "proceso y en particular en la señal resultante de la modulación, esto es, en la señal \n",
    "modulada 𝑠(𝑡), se recomienda la generación y análisis de experimentos para diversos \n",
    "valores de 𝜇. \n",
    "5- Determine y justifique adecuadamente en que valor de 𝜇 = 𝑘௔𝐴௠ es posible corregir \n",
    "de manera óptima el efecto de la sobre-modulación, presente las curvas que \n",
    "justifiquen adecuadamente su análisis."
   ]
  }
 ],
 "metadata": {
  "language_info": {
   "name": "python"
  },
  "orig_nbformat": 4
 },
 "nbformat": 4,
 "nbformat_minor": 2
}
